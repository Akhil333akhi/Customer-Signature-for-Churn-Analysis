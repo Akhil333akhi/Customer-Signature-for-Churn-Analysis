{
 "cells": [
  {
   "cell_type": "code",
   "execution_count": 1,
   "id": "1c78518d-ced5-4fd4-9caf-c62843b1d9b1",
   "metadata": {},
   "outputs": [],
   "source": [
    "import numpy as np"
   ]
  },
  {
   "cell_type": "code",
   "execution_count": 3,
   "id": "9a9d5b46-4a62-4f1d-b736-7a0b4342cb8b",
   "metadata": {},
   "outputs": [],
   "source": [
    "import pandas as pd"
   ]
  },
  {
   "cell_type": "code",
   "execution_count": 4,
   "id": "23b35280-25f8-4f4c-a013-cf74d46b5b1c",
   "metadata": {},
   "outputs": [],
   "source": [
    "df = pd.read_csv(\"C:\\\\Users\\\\akhik\\\\Downloads\\\\customer_data_edited.csv\") "
   ]
  },
  {
   "cell_type": "code",
   "execution_count": 7,
   "id": "645396a8-ada2-4636-a701-a602b3998995",
   "metadata": {},
   "outputs": [
    {
     "data": {
      "text/html": [
       "<div>\n",
       "<style scoped>\n",
       "    .dataframe tbody tr th:only-of-type {\n",
       "        vertical-align: middle;\n",
       "    }\n",
       "\n",
       "    .dataframe tbody tr th {\n",
       "        vertical-align: top;\n",
       "    }\n",
       "\n",
       "    .dataframe thead th {\n",
       "        text-align: right;\n",
       "    }\n",
       "</style>\n",
       "<table border=\"1\" class=\"dataframe\">\n",
       "  <thead>\n",
       "    <tr style=\"text-align: right;\">\n",
       "      <th></th>\n",
       "      <th>recordID</th>\n",
       "      <th>state</th>\n",
       "      <th>account_length</th>\n",
       "      <th>area_code</th>\n",
       "      <th>international_plan</th>\n",
       "      <th>voice_mail_plan</th>\n",
       "      <th>number_vmail_messages</th>\n",
       "      <th>total_day_minutes</th>\n",
       "      <th>total_day_calls</th>\n",
       "      <th>total_day_charge</th>\n",
       "      <th>...</th>\n",
       "      <th>total_eve_charge</th>\n",
       "      <th>total_night_minutes</th>\n",
       "      <th>total_night_calls</th>\n",
       "      <th>total_night_charge</th>\n",
       "      <th>total_intl_minutes</th>\n",
       "      <th>total_intl_calls</th>\n",
       "      <th>total_intl_charge</th>\n",
       "      <th>number_customer_service_calls</th>\n",
       "      <th>churn</th>\n",
       "      <th>customer_id</th>\n",
       "    </tr>\n",
       "  </thead>\n",
       "  <tbody>\n",
       "    <tr>\n",
       "      <th>0</th>\n",
       "      <td>1</td>\n",
       "      <td>HI</td>\n",
       "      <td>101</td>\n",
       "      <td>510</td>\n",
       "      <td>no</td>\n",
       "      <td>no</td>\n",
       "      <td>0</td>\n",
       "      <td>70.9</td>\n",
       "      <td>123</td>\n",
       "      <td>12.05</td>\n",
       "      <td>...</td>\n",
       "      <td>18.01</td>\n",
       "      <td>236.0</td>\n",
       "      <td>73</td>\n",
       "      <td>10.62</td>\n",
       "      <td>10.6</td>\n",
       "      <td>3</td>\n",
       "      <td>2.86</td>\n",
       "      <td>3</td>\n",
       "      <td>no</td>\n",
       "      <td>23383607.0</td>\n",
       "    </tr>\n",
       "    <tr>\n",
       "      <th>1</th>\n",
       "      <td>2</td>\n",
       "      <td>MT</td>\n",
       "      <td>137</td>\n",
       "      <td>510</td>\n",
       "      <td>no</td>\n",
       "      <td>no</td>\n",
       "      <td>0</td>\n",
       "      <td>223.6</td>\n",
       "      <td>86</td>\n",
       "      <td>38.01</td>\n",
       "      <td>...</td>\n",
       "      <td>20.81</td>\n",
       "      <td>94.2</td>\n",
       "      <td>81</td>\n",
       "      <td>4.24</td>\n",
       "      <td>9.5</td>\n",
       "      <td>7</td>\n",
       "      <td>2.57</td>\n",
       "      <td>0</td>\n",
       "      <td>no</td>\n",
       "      <td>22550362.0</td>\n",
       "    </tr>\n",
       "    <tr>\n",
       "      <th>2</th>\n",
       "      <td>3</td>\n",
       "      <td>OH</td>\n",
       "      <td>103</td>\n",
       "      <td>408</td>\n",
       "      <td>no</td>\n",
       "      <td>yes</td>\n",
       "      <td>29</td>\n",
       "      <td>294.7</td>\n",
       "      <td>95</td>\n",
       "      <td>50.10</td>\n",
       "      <td>...</td>\n",
       "      <td>20.17</td>\n",
       "      <td>300.3</td>\n",
       "      <td>127</td>\n",
       "      <td>13.51</td>\n",
       "      <td>13.7</td>\n",
       "      <td>6</td>\n",
       "      <td>3.70</td>\n",
       "      <td>1</td>\n",
       "      <td>no</td>\n",
       "      <td>59063354.0</td>\n",
       "    </tr>\n",
       "    <tr>\n",
       "      <th>3</th>\n",
       "      <td>4</td>\n",
       "      <td>NM</td>\n",
       "      <td>99</td>\n",
       "      <td>415</td>\n",
       "      <td>no</td>\n",
       "      <td>no</td>\n",
       "      <td>0</td>\n",
       "      <td>216.8</td>\n",
       "      <td>123</td>\n",
       "      <td>36.86</td>\n",
       "      <td>...</td>\n",
       "      <td>10.74</td>\n",
       "      <td>220.6</td>\n",
       "      <td>82</td>\n",
       "      <td>9.93</td>\n",
       "      <td>15.7</td>\n",
       "      <td>2</td>\n",
       "      <td>4.24</td>\n",
       "      <td>1</td>\n",
       "      <td>no</td>\n",
       "      <td>25464504.0</td>\n",
       "    </tr>\n",
       "    <tr>\n",
       "      <th>4</th>\n",
       "      <td>5</td>\n",
       "      <td>SC</td>\n",
       "      <td>108</td>\n",
       "      <td>415</td>\n",
       "      <td>no</td>\n",
       "      <td>no</td>\n",
       "      <td>0</td>\n",
       "      <td>197.4</td>\n",
       "      <td>78</td>\n",
       "      <td>33.56</td>\n",
       "      <td>...</td>\n",
       "      <td>10.54</td>\n",
       "      <td>204.5</td>\n",
       "      <td>107</td>\n",
       "      <td>9.20</td>\n",
       "      <td>7.7</td>\n",
       "      <td>4</td>\n",
       "      <td>2.08</td>\n",
       "      <td>2</td>\n",
       "      <td>no</td>\n",
       "      <td>691824.0</td>\n",
       "    </tr>\n",
       "  </tbody>\n",
       "</table>\n",
       "<p>5 rows × 22 columns</p>\n",
       "</div>"
      ],
      "text/plain": [
       "   recordID state  account_length  area_code international_plan  \\\n",
       "0         1    HI             101        510                 no   \n",
       "1         2    MT             137        510                 no   \n",
       "2         3    OH             103        408                 no   \n",
       "3         4    NM              99        415                 no   \n",
       "4         5    SC             108        415                 no   \n",
       "\n",
       "  voice_mail_plan  number_vmail_messages  total_day_minutes  total_day_calls  \\\n",
       "0              no                      0               70.9              123   \n",
       "1              no                      0              223.6               86   \n",
       "2             yes                     29              294.7               95   \n",
       "3              no                      0              216.8              123   \n",
       "4              no                      0              197.4               78   \n",
       "\n",
       "   total_day_charge  ...  total_eve_charge  total_night_minutes  \\\n",
       "0             12.05  ...             18.01                236.0   \n",
       "1             38.01  ...             20.81                 94.2   \n",
       "2             50.10  ...             20.17                300.3   \n",
       "3             36.86  ...             10.74                220.6   \n",
       "4             33.56  ...             10.54                204.5   \n",
       "\n",
       "   total_night_calls  total_night_charge  total_intl_minutes  \\\n",
       "0                 73               10.62                10.6   \n",
       "1                 81                4.24                 9.5   \n",
       "2                127               13.51                13.7   \n",
       "3                 82                9.93                15.7   \n",
       "4                107                9.20                 7.7   \n",
       "\n",
       "   total_intl_calls  total_intl_charge  number_customer_service_calls  churn  \\\n",
       "0                 3               2.86                              3     no   \n",
       "1                 7               2.57                              0     no   \n",
       "2                 6               3.70                              1     no   \n",
       "3                 2               4.24                              1     no   \n",
       "4                 4               2.08                              2     no   \n",
       "\n",
       "   customer_id  \n",
       "0   23383607.0  \n",
       "1   22550362.0  \n",
       "2   59063354.0  \n",
       "3   25464504.0  \n",
       "4     691824.0  \n",
       "\n",
       "[5 rows x 22 columns]"
      ]
     },
     "execution_count": 7,
     "metadata": {},
     "output_type": "execute_result"
    }
   ],
   "source": [
    "df.head()"
   ]
  },
  {
   "cell_type": "code",
   "execution_count": 9,
   "id": "eb13911b-1c21-4dbc-bac6-d702ad058774",
   "metadata": {},
   "outputs": [
    {
     "name": "stdout",
     "output_type": "stream",
     "text": [
      "<class 'pandas.core.frame.DataFrame'>\n",
      "RangeIndex: 12892 entries, 0 to 12891\n",
      "Data columns (total 22 columns):\n",
      " #   Column                         Non-Null Count  Dtype  \n",
      "---  ------                         --------------  -----  \n",
      " 0   recordID                       12892 non-null  int64  \n",
      " 1   state                          12892 non-null  object \n",
      " 2   account_length                 12892 non-null  int64  \n",
      " 3   area_code                      12892 non-null  int64  \n",
      " 4   international_plan             12892 non-null  object \n",
      " 5   voice_mail_plan                12892 non-null  object \n",
      " 6   number_vmail_messages          12892 non-null  int64  \n",
      " 7   total_day_minutes              12892 non-null  float64\n",
      " 8   total_day_calls                12892 non-null  int64  \n",
      " 9   total_day_charge               12892 non-null  float64\n",
      " 10  total_eve_minutes              12892 non-null  float64\n",
      " 11  total_eve_calls                12892 non-null  int64  \n",
      " 12  total_eve_charge               12892 non-null  float64\n",
      " 13  total_night_minutes            12892 non-null  float64\n",
      " 14  total_night_calls              12892 non-null  int64  \n",
      " 15  total_night_charge             12892 non-null  float64\n",
      " 16  total_intl_minutes             12892 non-null  float64\n",
      " 17  total_intl_calls               12892 non-null  int64  \n",
      " 18  total_intl_charge              12892 non-null  float64\n",
      " 19  number_customer_service_calls  12892 non-null  int64  \n",
      " 20  churn                          12892 non-null  object \n",
      " 21  customer_id                    12892 non-null  float64\n",
      "dtypes: float64(9), int64(9), object(4)\n",
      "memory usage: 2.2+ MB\n"
     ]
    }
   ],
   "source": [
    "df.info()"
   ]
  },
  {
   "cell_type": "code",
   "execution_count": 11,
   "id": "239b50aa-bdaf-48aa-9f29-a5d36de99f08",
   "metadata": {},
   "outputs": [],
   "source": [
    "duplicates = df.duplicated().sum()"
   ]
  },
  {
   "cell_type": "code",
   "execution_count": 13,
   "id": "ddf16218-1157-4b72-b287-14a4445d23c0",
   "metadata": {},
   "outputs": [],
   "source": [
    "missing_values = df.isnull().sum()"
   ]
  },
  {
   "cell_type": "code",
   "execution_count": 15,
   "id": "fd254db4-c878-46b2-8817-15cbfaf72d0f",
   "metadata": {},
   "outputs": [
    {
     "data": {
      "text/plain": [
       "0"
      ]
     },
     "execution_count": 15,
     "metadata": {},
     "output_type": "execute_result"
    }
   ],
   "source": [
    "duplicates"
   ]
  },
  {
   "cell_type": "code",
   "execution_count": 17,
   "id": "8a2499cb-6110-4737-9c32-3bdcc04e04a3",
   "metadata": {},
   "outputs": [
    {
     "data": {
      "text/plain": [
       "recordID                         0\n",
       "state                            0\n",
       "account_length                   0\n",
       "area_code                        0\n",
       "international_plan               0\n",
       "voice_mail_plan                  0\n",
       "number_vmail_messages            0\n",
       "total_day_minutes                0\n",
       "total_day_calls                  0\n",
       "total_day_charge                 0\n",
       "total_eve_minutes                0\n",
       "total_eve_calls                  0\n",
       "total_eve_charge                 0\n",
       "total_night_minutes              0\n",
       "total_night_calls                0\n",
       "total_night_charge               0\n",
       "total_intl_minutes               0\n",
       "total_intl_calls                 0\n",
       "total_intl_charge                0\n",
       "number_customer_service_calls    0\n",
       "churn                            0\n",
       "customer_id                      0\n",
       "dtype: int64"
      ]
     },
     "execution_count": 17,
     "metadata": {},
     "output_type": "execute_result"
    }
   ],
   "source": [
    "missing_values"
   ]
  },
  {
   "cell_type": "code",
   "execution_count": 19,
   "id": "ee973bc8-57ee-44a5-8b67-05b694671602",
   "metadata": {},
   "outputs": [],
   "source": [
    "data_cleaned = df.drop(columns=[\"recordID\", \"customer_id\"]) "
   ]
  },
  {
   "cell_type": "code",
   "execution_count": 21,
   "id": "b0f95b3d-07f3-43be-be1f-73267e24451f",
   "metadata": {},
   "outputs": [],
   "source": [
    "data_cleaned['international_plan'] = data_cleaned['international_plan'].map({'yes': 1, 'no': 0})\n",
    "data_cleaned['voice_mail_plan'] = data_cleaned['voice_mail_plan'].map({'yes': 1, 'no': 0})\n",
    "data_cleaned['churn'] = data_cleaned['churn'].map({'yes': 1, 'no': 0})\n"
   ]
  },
  {
   "cell_type": "code",
   "execution_count": 23,
   "id": "9bf97dc3-379f-4ceb-a682-21824106c3cc",
   "metadata": {},
   "outputs": [],
   "source": [
    "data_cleaned = pd.get_dummies(data_cleaned, columns=[\"state\"], drop_first=True)"
   ]
  },
  {
   "cell_type": "code",
   "execution_count": 25,
   "id": "8b66efea-e153-4380-9a0e-59092814e052",
   "metadata": {},
   "outputs": [],
   "source": [
    "target_distribution = data_cleaned['churn'].value_counts(normalize=True)"
   ]
  },
  {
   "cell_type": "code",
   "execution_count": 33,
   "id": "cde754a8-0e3e-495d-a566-ed8f7a0b8594",
   "metadata": {},
   "outputs": [
    {
     "name": "stdout",
     "output_type": "stream",
     "text": [
      "DUPLICATES VALUES = 0\n"
     ]
    }
   ],
   "source": [
    "print(\"DUPLICATES VALUES =\",duplicates) "
   ]
  },
  {
   "cell_type": "code",
   "execution_count": 35,
   "id": "d1c502ad-5584-4929-b72a-c1c39a4da8f9",
   "metadata": {},
   "outputs": [
    {
     "name": "stdout",
     "output_type": "stream",
     "text": [
      "MISSING VALUES = recordID                         0\n",
      "state                            0\n",
      "account_length                   0\n",
      "area_code                        0\n",
      "international_plan               0\n",
      "voice_mail_plan                  0\n",
      "number_vmail_messages            0\n",
      "total_day_minutes                0\n",
      "total_day_calls                  0\n",
      "total_day_charge                 0\n",
      "total_eve_minutes                0\n",
      "total_eve_calls                  0\n",
      "total_eve_charge                 0\n",
      "total_night_minutes              0\n",
      "total_night_calls                0\n",
      "total_night_charge               0\n",
      "total_intl_minutes               0\n",
      "total_intl_calls                 0\n",
      "total_intl_charge                0\n",
      "number_customer_service_calls    0\n",
      "churn                            0\n",
      "customer_id                      0\n",
      "dtype: int64\n"
     ]
    }
   ],
   "source": [
    "print(\"MISSING VALUES =\",missing_values)"
   ]
  },
  {
   "cell_type": "code",
   "execution_count": 37,
   "id": "aa506493-8ca4-4d03-91df-a026dbab4a6a",
   "metadata": {},
   "outputs": [
    {
     "name": "stdout",
     "output_type": "stream",
     "text": [
      "TARGET DISTRIBUTION = churn\n",
      "0    0.858594\n",
      "1    0.141406\n",
      "Name: proportion, dtype: float64\n"
     ]
    }
   ],
   "source": [
    "print(\"TARGET DISTRIBUTION =\", target_distribution)"
   ]
  },
  {
   "cell_type": "code",
   "execution_count": null,
   "id": "a8cb7a83-77bb-41f6-a7aa-7bd3c8d00197",
   "metadata": {},
   "outputs": [],
   "source": []
  }
 ],
 "metadata": {
  "kernelspec": {
   "display_name": "Python 3 (ipykernel)",
   "language": "python",
   "name": "python3"
  },
  "language_info": {
   "codemirror_mode": {
    "name": "ipython",
    "version": 3
   },
   "file_extension": ".py",
   "mimetype": "text/x-python",
   "name": "python",
   "nbconvert_exporter": "python",
   "pygments_lexer": "ipython3",
   "version": "3.12.7"
  }
 },
 "nbformat": 4,
 "nbformat_minor": 5
}
